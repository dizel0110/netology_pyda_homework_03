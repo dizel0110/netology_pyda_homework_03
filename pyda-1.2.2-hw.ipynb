{
 "cells": [
  {
   "cell_type": "markdown",
   "metadata": {},
   "source": [
    "## Задание 1"
   ]
  },
  {
   "cell_type": "markdown",
   "metadata": {},
   "source": [
    "Дан список с визитами по городам и странам. \n",
    "Напишите код, который возвращает отфильтрованный список geo_logs, содержащий только визиты из России."
   ]
  },
  {
   "cell_type": "code",
   "execution_count": 1,
   "metadata": {},
   "outputs": [],
   "source": [
    "geo_logs = [\n",
    "    {'visit1': ['Москва', 'Россия']},\n",
    "    {'visit2': ['Дели', 'Индия']},\n",
    "    {'visit3': ['Владимир', 'Россия']},\n",
    "    {'visit4': ['Лиссабон', 'Португалия']},\n",
    "    {'visit5': ['Париж', 'Франция']},\n",
    "    {'visit6': ['Лиссабон', 'Португалия']},\n",
    "    {'visit7': ['Тула', 'Россия']},\n",
    "    {'visit8': ['Тула', 'Россия']},\n",
    "    {'visit9': ['Курск', 'Россия']},\n",
    "    {'visit10': ['Архангельск', 'Россия']}\n",
    "]"
   ]
  },
  {
   "cell_type": "code",
   "execution_count": 2,
   "metadata": {},
   "outputs": [
    {
     "name": "stdout",
     "output_type": "stream",
     "text": [
      "[{'visit1': ['Москва', 'Россия']}, {'visit3': ['Владимир', 'Россия']}, {'visit7': ['Тула', 'Россия']}, {'visit8': ['Тула', 'Россия']}, {'visit9': ['Курск', 'Россия']}, {'visit10': ['Архангельск', 'Россия']}]\n"
     ]
    }
   ],
   "source": [
    "#Вариант 1 из 2 (упрощённый)  Увидел, - добавил. Но это не технологично.\n",
    "st=[]\n",
    "st.append(geo_logs[0])\n",
    "st.append(geo_logs[2])\n",
    "st.append(geo_logs[6])\n",
    "st.append(geo_logs[7])\n",
    "st.append(geo_logs[8])\n",
    "st.append(geo_logs[9])\n",
    "geo_logs = st\n",
    "print(geo_logs)"
   ]
  },
  {
   "cell_type": "code",
   "execution_count": 55,
   "metadata": {},
   "outputs": [
    {
     "name": "stdout",
     "output_type": "stream",
     "text": [
      "[{'visit1': ['Москва', 'Россия']}, {'visit3': ['Владимир', 'Россия']}, {'visit7': ['Тула', 'Россия']}, {'visit8': ['Тула', 'Россия']}, {'visit9': ['Курск', 'Россия']}, {'visit10': ['Архангельск', 'Россия']}]\n"
     ]
    }
   ],
   "source": [
    "#Вариант 2 из 2 (посложнее) # Сразу ищем контекст \n",
    "st = []                    # и формируем новый список по условию. Для большого объёма данных.\n",
    "for j, el in enumerate(geo_logs):\n",
    "    for visits, citytown in el.items():\n",
    "        if citytown[1] == 'Россия':     # Добавляем по условию из данного списка \n",
    "            st.append(geo_logs[j])     # в новый список. \n",
    "geo_logs = st                       # возвращаюсь к прежнему названию с новым\n",
    "print (geo_logs)\n",
    "  \n",
    "#Долго бился, над задачей, видно, что 'на память' много кода внизу оставил.\n",
    "#Естественно выверенный код сверху, короткий, лаконичный. Аппетит, приходит во время еды.\n",
    "#То есть (опыт, осмысление) во время практики.\n",
    "\n",
    "# Внизу, для памяти:\n",
    "\n",
    "#lgl = len(geo_logs)\n",
    "# for j, el in enumerate(geo_logs):\n",
    "#     print(j, el.keys())\n",
    "#     print(geo_logs[j][el.keys(j)])\n",
    "# # for key, value in el:\n",
    "# #     print(key, value)\n",
    "\n",
    "# for j in range(10):\n",
    "#     tg = list(geo_logs[j].keys())\n",
    "# for j in range(10):\n",
    "#     sm = geo_logs[j]\n",
    "#     st = str(tg[j])\n",
    "#     print(sm[st]) #[tg[j]]\n",
    "   \n",
    "\n",
    "# for visits in geo_logs:\n",
    "#     geo_logs[0]\n",
    "    \n",
    "#    geo_logs[0]['visit1'][1] #!= 'Россия'\n",
    "  #  print(\"лол\")\n",
    "# for visits in geo_logs:\n",
    "#     visits\n",
    "#     geo_logs.remove(visits)"
   ]
  },
  {
   "cell_type": "markdown",
   "metadata": {},
   "source": [
    "## Задание 2"
   ]
  },
  {
   "cell_type": "markdown",
   "metadata": {},
   "source": [
    "Выведите на экран все уникальные гео-ID из значений словаря ids. Т. е. список вида [213, 15, 54, 119, 98, 35]"
   ]
  },
  {
   "cell_type": "code",
   "execution_count": 10,
   "metadata": {},
   "outputs": [],
   "source": [
    "ids = {'user1': [213, 213, 213, 15, 213], \n",
    "       'user2': [54, 54, 119, 119, 119], \n",
    "       'user3': [213, 98, 98, 35]}"
   ]
  },
  {
   "cell_type": "code",
   "execution_count": 11,
   "metadata": {},
   "outputs": [
    {
     "name": "stdout",
     "output_type": "stream",
     "text": [
      "[98, 35, 15, 213, 54, 119]\n"
     ]
    }
   ],
   "source": [
    "ids = set(ids['user1'] + ids['user2'] + ids['user3']) # в ту же переменную для простоты\n",
    "print(list(ids))   #Я понял задачу так, что надо вывел в результаты. Все гео-ID уникальны. "
   ]
  },
  {
   "cell_type": "markdown",
   "metadata": {},
   "source": [
    "## Задание 3"
   ]
  },
  {
   "cell_type": "markdown",
   "metadata": {},
   "source": [
    "Дан список поисковых запросов. Получить распределение количества слов в них. \n",
    "Т. е. поисковых запросов из одного - слова 5%, из двух - 7%, из трех - 3% и т.д."
   ]
  },
  {
   "cell_type": "code",
   "execution_count": 35,
   "metadata": {},
   "outputs": [],
   "source": [
    "queries = [\n",
    "    'смотреть сериалы онлайн',\n",
    "    'новости спорта',\n",
    "    'афиша кино',\n",
    "    'курс доллара',\n",
    "    'сериалы этим летом',\n",
    "    'курс по питону',\n",
    "    'сериалы про спорт',\n",
    "]"
   ]
  },
  {
   "cell_type": "code",
   "execution_count": 41,
   "metadata": {},
   "outputs": [
    {
     "name": "stdout",
     "output_type": "stream",
     "text": [
      "Вывожу номер запроса (нумерация с 1) и количество слов в нём:\n",
      "1 3\n",
      "2 2\n",
      "3 2\n",
      "4 2\n",
      "5 3\n",
      "6 3\n",
      "7 3\n",
      "\n",
      "Список количества слов по поисковым запросам:\n",
      " [3, 2, 2, 2, 3, 3, 3] \n",
      "\n",
      "Cловарь. Ключ - количество слов в запросе. Значение - количество запросов:\n",
      " {2: 3, 3: 4} \n",
      "\n",
      "Кол-во запросов из 2 слов(а): 42.86 %\n",
      "Кол-во запросов из 3 слов(а): 57.14 %\n"
     ]
    }
   ],
   "source": [
    "lenel = [] # Сокращение от длина элементов. Красивая переменная, решил оставить.\n",
    "\n",
    "print('Вывожу номер запроса (нумерация с 1) и количество слов в нём:')\n",
    "for j, el in enumerate(queries, 1): \n",
    "    #lenel[j] = len(el.split())\n",
    "    print(j, len(el.split()))\n",
    "    lenel.append(len(el.split()))\n",
    "print('')\n",
    "\n",
    "\n",
    "print('Список количества слов по поисковым запросам:\\n', lenel, '\\n')\n",
    "\n",
    "#Сортирую список по значениям (как вариант можно было делать так и придумать код):\n",
    "\n",
    "# lenel.sort()\n",
    "# print('Отстортированный по количеству слов список:\\n', lenel, '\\n'lenel)\n",
    "\n",
    "# Но тут познакомился с интересным поиском и решил именно его вставить в рабочую область кода:\n",
    "qud = dict((x, lenel.count(x)) for x in set(lenel) if lenel.count(x) > 1)\n",
    "print ('Cловарь. Ключ - количество слов в запросе. Значение - количество запросов:\\n', qud, '\\n')\n",
    "\n",
    "for keys, values in qud.items(): # Распределение количества слов в поисковых запросах.\n",
    "#    print(keys, values)\n",
    "    print('Кол-во запросов из', keys, 'слов(а):', round(100*values/len(queries), 2), '%')"
   ]
  },
  {
   "cell_type": "markdown",
   "metadata": {},
   "source": [
    "## Задание 4"
   ]
  },
  {
   "cell_type": "markdown",
   "metadata": {},
   "source": [
    "Дана статистика рекламных каналов по объемам продаж. Напишите скрипт, который возвращает название канала с максимальным объемом.\n",
    "Т. е. в данном примере скрипт должен возвращать 'yandex'."
   ]
  },
  {
   "cell_type": "code",
   "execution_count": 14,
   "metadata": {},
   "outputs": [],
   "source": [
    "stats = {'facebook': 55, 'yandex': 120, 'vk': 115, 'google': 99, 'email': 42, 'ok': 98}"
   ]
  },
  {
   "cell_type": "code",
   "execution_count": 42,
   "metadata": {},
   "outputs": [
    {
     "name": "stdout",
     "output_type": "stream",
     "text": [
      "Рекламный канал с максимальным объёмом: yandex\n"
     ]
    }
   ],
   "source": [
    "stats = {'facebook': 55, 'yandex': 120, 'vk': 115, 'google': 99, 'email': 42, 'ok': 98}\n",
    "\n",
    "#print(max(stats.values()))\n",
    "#tr = max(stats.values())\n",
    "\n",
    "for keys, values in stats.items():    # Если будут два и больше каналов с одинаковым количеством\n",
    "    if values == max(stats.values()): # просмотров, выведет все эти каналы. \n",
    "        print('Рекламный канал с максимальным объёмом:', keys)  # Например 'google': 120"
   ]
  }
 ],
 "metadata": {
  "kernelspec": {
   "display_name": "Python 3",
   "language": "python",
   "name": "python3"
  },
  "language_info": {
   "codemirror_mode": {
    "name": "ipython",
    "version": 3
   },
   "file_extension": ".py",
   "mimetype": "text/x-python",
   "name": "python",
   "nbconvert_exporter": "python",
   "pygments_lexer": "ipython3",
   "version": "3.7.4"
  }
 },
 "nbformat": 4,
 "nbformat_minor": 2
}
